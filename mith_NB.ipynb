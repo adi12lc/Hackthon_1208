{
 "cells": [
  {
   "cell_type": "raw",
   "source": [
    "# Problem Statement\n",
    "Hospitalized patients outcomes in terms of morbidity and mortality have a substantial impact on how lifestyle diseases are managed.\n",
    "\n",
    "Objective: Based on the patient's previous information, determine if a patient is likely to be readmitted to the hospital.\n",
    "\n",
    "### Features\n",
    "* encounter_id\n",
    "* patient_id\n",
    "* race\n",
    "*gender\n",
    "*age\n",
    "*weight\n",
    "*time_in_hospital\n",
    "*medical_specialty\n",
    "*num_lab_procedures\n",
    "*num_procedures\n",
    "*num_medications\n",
    "*number_outpatient\n",
    "*number_emergency\n",
    "*number_inpatient\n",
    "*diag-1 to diag_5\n",
    "*diabetesMed\n",
    "*X1 - X25\n",
    "*readmitted(Target Variable)"
   ],
   "metadata": {
    "collapsed": false,
    "pycharm": {
     "name": "#%% raw\n"
    }
   }
  },
  {
   "cell_type": "code",
   "execution_count": 51,
   "metadata": {
    "pycharm": {
     "name": "#%%\n"
    }
   },
   "outputs": [],
   "source": [
    "import numpy as np\n",
    "import pandas as pd\n",
    "import matplotlib.pyplot as plt\n",
    "import seaborn as sns\n",
    "import warnings\n",
    "warnings.filterwarnings(\"ignore\")\n",
    "\n",
    "from sklearn.preprocessing import LabelEncoder\n",
    "from sklearn.preprocessing import StandardScaler\n",
    "from sklearn.preprocessing import MinMaxScaler\n",
    "from sklearn.model_selection import train_test_split\n",
    "from sklearn.linear_model import LogisticRegression\n",
    "from sklearn.tree import DecisionTreeClassifier\n",
    "from sklearn.metrics import  f1_score"
   ]
  },
  {
   "cell_type": "code",
   "execution_count": 52,
   "metadata": {
    "pycharm": {
     "name": "#%%\n"
    }
   },
   "outputs": [],
   "source": [
    "train = pd.read_csv(r\"Train.csv\")\n",
    "test = pd.read_csv(r\"test.csv\")"
   ]
  },
  {
   "cell_type": "code",
   "execution_count": 53,
   "metadata": {
    "pycharm": {
     "name": "#%%\n"
    }
   },
   "outputs": [
    {
     "data": {
      "text/plain": "   index  encounter_id  patient_id             race  gender      age weight  \\\n0  69375     197029140    51521940         Hispanic    Male  [80-90)      ?   \n1  57272     163571946    92631357        Caucasian    Male  [60-70)      ?   \n2  82347     256497366    30023982        Caucasian  Female  [50-60)      ?   \n3  89608     289891212    93606021  AfricanAmerican  Female  [70-80)      ?   \n4  24091      81873900    23464296        Caucasian    Male  [70-80)      ?   \n\n   time_in_hospital medical_specialty  num_lab_procedures  ...  X19   X20  \\\n0                 4  Emergency/Trauma                  39  ...   No    No   \n1                 3  Emergency/Trauma                  34  ...   No    No   \n2                 6        Nephrology                  50  ...   No  Down   \n3                 5                 ?                  63  ...   No  Down   \n4                 9        Psychiatry                  17  ...   No    No   \n\n   X21  X22  X23 X24 X25 change diabetesMed  readmitted  \n0   No   No   No  No  No     No         Yes           1  \n1   No   No   No  No  No     No          No           0  \n2   No   No   No  No  No     Ch         Yes           1  \n3   No   No   No  No  No     Ch         Yes           1  \n4   No   No   No  No  No     No          No           1  \n\n[5 rows x 49 columns]",
      "text/html": "<div>\n<style scoped>\n    .dataframe tbody tr th:only-of-type {\n        vertical-align: middle;\n    }\n\n    .dataframe tbody tr th {\n        vertical-align: top;\n    }\n\n    .dataframe thead th {\n        text-align: right;\n    }\n</style>\n<table border=\"1\" class=\"dataframe\">\n  <thead>\n    <tr style=\"text-align: right;\">\n      <th></th>\n      <th>index</th>\n      <th>encounter_id</th>\n      <th>patient_id</th>\n      <th>race</th>\n      <th>gender</th>\n      <th>age</th>\n      <th>weight</th>\n      <th>time_in_hospital</th>\n      <th>medical_specialty</th>\n      <th>num_lab_procedures</th>\n      <th>...</th>\n      <th>X19</th>\n      <th>X20</th>\n      <th>X21</th>\n      <th>X22</th>\n      <th>X23</th>\n      <th>X24</th>\n      <th>X25</th>\n      <th>change</th>\n      <th>diabetesMed</th>\n      <th>readmitted</th>\n    </tr>\n  </thead>\n  <tbody>\n    <tr>\n      <th>0</th>\n      <td>69375</td>\n      <td>197029140</td>\n      <td>51521940</td>\n      <td>Hispanic</td>\n      <td>Male</td>\n      <td>[80-90)</td>\n      <td>?</td>\n      <td>4</td>\n      <td>Emergency/Trauma</td>\n      <td>39</td>\n      <td>...</td>\n      <td>No</td>\n      <td>No</td>\n      <td>No</td>\n      <td>No</td>\n      <td>No</td>\n      <td>No</td>\n      <td>No</td>\n      <td>No</td>\n      <td>Yes</td>\n      <td>1</td>\n    </tr>\n    <tr>\n      <th>1</th>\n      <td>57272</td>\n      <td>163571946</td>\n      <td>92631357</td>\n      <td>Caucasian</td>\n      <td>Male</td>\n      <td>[60-70)</td>\n      <td>?</td>\n      <td>3</td>\n      <td>Emergency/Trauma</td>\n      <td>34</td>\n      <td>...</td>\n      <td>No</td>\n      <td>No</td>\n      <td>No</td>\n      <td>No</td>\n      <td>No</td>\n      <td>No</td>\n      <td>No</td>\n      <td>No</td>\n      <td>No</td>\n      <td>0</td>\n    </tr>\n    <tr>\n      <th>2</th>\n      <td>82347</td>\n      <td>256497366</td>\n      <td>30023982</td>\n      <td>Caucasian</td>\n      <td>Female</td>\n      <td>[50-60)</td>\n      <td>?</td>\n      <td>6</td>\n      <td>Nephrology</td>\n      <td>50</td>\n      <td>...</td>\n      <td>No</td>\n      <td>Down</td>\n      <td>No</td>\n      <td>No</td>\n      <td>No</td>\n      <td>No</td>\n      <td>No</td>\n      <td>Ch</td>\n      <td>Yes</td>\n      <td>1</td>\n    </tr>\n    <tr>\n      <th>3</th>\n      <td>89608</td>\n      <td>289891212</td>\n      <td>93606021</td>\n      <td>AfricanAmerican</td>\n      <td>Female</td>\n      <td>[70-80)</td>\n      <td>?</td>\n      <td>5</td>\n      <td>?</td>\n      <td>63</td>\n      <td>...</td>\n      <td>No</td>\n      <td>Down</td>\n      <td>No</td>\n      <td>No</td>\n      <td>No</td>\n      <td>No</td>\n      <td>No</td>\n      <td>Ch</td>\n      <td>Yes</td>\n      <td>1</td>\n    </tr>\n    <tr>\n      <th>4</th>\n      <td>24091</td>\n      <td>81873900</td>\n      <td>23464296</td>\n      <td>Caucasian</td>\n      <td>Male</td>\n      <td>[70-80)</td>\n      <td>?</td>\n      <td>9</td>\n      <td>Psychiatry</td>\n      <td>17</td>\n      <td>...</td>\n      <td>No</td>\n      <td>No</td>\n      <td>No</td>\n      <td>No</td>\n      <td>No</td>\n      <td>No</td>\n      <td>No</td>\n      <td>No</td>\n      <td>No</td>\n      <td>1</td>\n    </tr>\n  </tbody>\n</table>\n<p>5 rows × 49 columns</p>\n</div>"
     },
     "execution_count": 53,
     "metadata": {},
     "output_type": "execute_result"
    }
   ],
   "source": [
    "train.head()"
   ]
  },
  {
   "cell_type": "code",
   "execution_count": 54,
   "metadata": {
    "pycharm": {
     "name": "#%%\n"
    }
   },
   "outputs": [
    {
     "name": "stdout",
     "output_type": "stream",
     "text": [
      "(66587, 49)\n",
      "(16647, 48)\n"
     ]
    }
   ],
   "source": [
    "print(train.shape)\n",
    "print(test.shape)"
   ]
  },
  {
   "cell_type": "code",
   "execution_count": 55,
   "metadata": {
    "pycharm": {
     "name": "#%%\n"
    }
   },
   "outputs": [
    {
     "data": {
      "text/plain": "                index  encounter_id    patient_id       race  gender      age  \\\ncount    66587.000000  6.658700e+04  6.658700e+04      66587   66587    66587   \nunique            NaN           NaN           NaN          6       3       10   \ntop               NaN           NaN           NaN  Caucasian  Female  [70-80)   \nfreq              NaN           NaN           NaN      49906   35973    17031   \nmean     50903.474282  1.653153e+08  5.422970e+07        NaN     NaN      NaN   \nstd      29480.255515  1.030035e+08  3.878819e+07        NaN     NaN      NaN   \nmin          0.000000  1.573800e+04  1.350000e+02        NaN     NaN      NaN   \n25%      25166.500000  8.440328e+07  2.338646e+07        NaN     NaN      NaN   \n50%      51129.000000  1.528504e+08  4.526103e+07        NaN     NaN      NaN   \n75%      76380.000000  2.305049e+08  8.727185e+07        NaN     NaN      NaN   \nmax     101765.000000  4.438672e+08  1.893494e+08        NaN     NaN      NaN   \n\n       weight  time_in_hospital medical_specialty  num_lab_procedures  ...  \\\ncount   66587      66587.000000             66587        66587.000000  ...   \nunique     10               NaN                65                 NaN  ...   \ntop         ?               NaN                 ?                 NaN  ...   \nfreq    64454               NaN             32672                 NaN  ...   \nmean      NaN          4.397510               NaN           43.115533  ...   \nstd       NaN          2.980995               NaN           19.630417  ...   \nmin       NaN          1.000000               NaN            1.000000  ...   \n25%       NaN          2.000000               NaN           31.000000  ...   \n50%       NaN          4.000000               NaN           44.000000  ...   \n75%       NaN          6.000000               NaN           57.000000  ...   \nmax       NaN         14.000000               NaN          129.000000  ...   \n\n          X19    X20    X21    X22    X23    X24    X25 change diabetesMed  \\\ncount   66587  66587  66587  66587  66587  66587  66587  66587       66587   \nunique      1      4      4      2      2      2      1      2           2   \ntop        No     No     No     No     No     No     No     No         Yes   \nfreq    66587  31175  66110  66575  66586  66582  66587  35894       51205   \nmean      NaN    NaN    NaN    NaN    NaN    NaN    NaN    NaN         NaN   \nstd       NaN    NaN    NaN    NaN    NaN    NaN    NaN    NaN         NaN   \nmin       NaN    NaN    NaN    NaN    NaN    NaN    NaN    NaN         NaN   \n25%       NaN    NaN    NaN    NaN    NaN    NaN    NaN    NaN         NaN   \n50%       NaN    NaN    NaN    NaN    NaN    NaN    NaN    NaN         NaN   \n75%       NaN    NaN    NaN    NaN    NaN    NaN    NaN    NaN         NaN   \nmax       NaN    NaN    NaN    NaN    NaN    NaN    NaN    NaN         NaN   \n\n          readmitted  \ncount   66587.000000  \nunique           NaN  \ntop              NaN  \nfreq             NaN  \nmean        0.462012  \nstd         0.498559  \nmin         0.000000  \n25%         0.000000  \n50%         0.000000  \n75%         1.000000  \nmax         1.000000  \n\n[11 rows x 49 columns]",
      "text/html": "<div>\n<style scoped>\n    .dataframe tbody tr th:only-of-type {\n        vertical-align: middle;\n    }\n\n    .dataframe tbody tr th {\n        vertical-align: top;\n    }\n\n    .dataframe thead th {\n        text-align: right;\n    }\n</style>\n<table border=\"1\" class=\"dataframe\">\n  <thead>\n    <tr style=\"text-align: right;\">\n      <th></th>\n      <th>index</th>\n      <th>encounter_id</th>\n      <th>patient_id</th>\n      <th>race</th>\n      <th>gender</th>\n      <th>age</th>\n      <th>weight</th>\n      <th>time_in_hospital</th>\n      <th>medical_specialty</th>\n      <th>num_lab_procedures</th>\n      <th>...</th>\n      <th>X19</th>\n      <th>X20</th>\n      <th>X21</th>\n      <th>X22</th>\n      <th>X23</th>\n      <th>X24</th>\n      <th>X25</th>\n      <th>change</th>\n      <th>diabetesMed</th>\n      <th>readmitted</th>\n    </tr>\n  </thead>\n  <tbody>\n    <tr>\n      <th>count</th>\n      <td>66587.000000</td>\n      <td>6.658700e+04</td>\n      <td>6.658700e+04</td>\n      <td>66587</td>\n      <td>66587</td>\n      <td>66587</td>\n      <td>66587</td>\n      <td>66587.000000</td>\n      <td>66587</td>\n      <td>66587.000000</td>\n      <td>...</td>\n      <td>66587</td>\n      <td>66587</td>\n      <td>66587</td>\n      <td>66587</td>\n      <td>66587</td>\n      <td>66587</td>\n      <td>66587</td>\n      <td>66587</td>\n      <td>66587</td>\n      <td>66587.000000</td>\n    </tr>\n    <tr>\n      <th>unique</th>\n      <td>NaN</td>\n      <td>NaN</td>\n      <td>NaN</td>\n      <td>6</td>\n      <td>3</td>\n      <td>10</td>\n      <td>10</td>\n      <td>NaN</td>\n      <td>65</td>\n      <td>NaN</td>\n      <td>...</td>\n      <td>1</td>\n      <td>4</td>\n      <td>4</td>\n      <td>2</td>\n      <td>2</td>\n      <td>2</td>\n      <td>1</td>\n      <td>2</td>\n      <td>2</td>\n      <td>NaN</td>\n    </tr>\n    <tr>\n      <th>top</th>\n      <td>NaN</td>\n      <td>NaN</td>\n      <td>NaN</td>\n      <td>Caucasian</td>\n      <td>Female</td>\n      <td>[70-80)</td>\n      <td>?</td>\n      <td>NaN</td>\n      <td>?</td>\n      <td>NaN</td>\n      <td>...</td>\n      <td>No</td>\n      <td>No</td>\n      <td>No</td>\n      <td>No</td>\n      <td>No</td>\n      <td>No</td>\n      <td>No</td>\n      <td>No</td>\n      <td>Yes</td>\n      <td>NaN</td>\n    </tr>\n    <tr>\n      <th>freq</th>\n      <td>NaN</td>\n      <td>NaN</td>\n      <td>NaN</td>\n      <td>49906</td>\n      <td>35973</td>\n      <td>17031</td>\n      <td>64454</td>\n      <td>NaN</td>\n      <td>32672</td>\n      <td>NaN</td>\n      <td>...</td>\n      <td>66587</td>\n      <td>31175</td>\n      <td>66110</td>\n      <td>66575</td>\n      <td>66586</td>\n      <td>66582</td>\n      <td>66587</td>\n      <td>35894</td>\n      <td>51205</td>\n      <td>NaN</td>\n    </tr>\n    <tr>\n      <th>mean</th>\n      <td>50903.474282</td>\n      <td>1.653153e+08</td>\n      <td>5.422970e+07</td>\n      <td>NaN</td>\n      <td>NaN</td>\n      <td>NaN</td>\n      <td>NaN</td>\n      <td>4.397510</td>\n      <td>NaN</td>\n      <td>43.115533</td>\n      <td>...</td>\n      <td>NaN</td>\n      <td>NaN</td>\n      <td>NaN</td>\n      <td>NaN</td>\n      <td>NaN</td>\n      <td>NaN</td>\n      <td>NaN</td>\n      <td>NaN</td>\n      <td>NaN</td>\n      <td>0.462012</td>\n    </tr>\n    <tr>\n      <th>std</th>\n      <td>29480.255515</td>\n      <td>1.030035e+08</td>\n      <td>3.878819e+07</td>\n      <td>NaN</td>\n      <td>NaN</td>\n      <td>NaN</td>\n      <td>NaN</td>\n      <td>2.980995</td>\n      <td>NaN</td>\n      <td>19.630417</td>\n      <td>...</td>\n      <td>NaN</td>\n      <td>NaN</td>\n      <td>NaN</td>\n      <td>NaN</td>\n      <td>NaN</td>\n      <td>NaN</td>\n      <td>NaN</td>\n      <td>NaN</td>\n      <td>NaN</td>\n      <td>0.498559</td>\n    </tr>\n    <tr>\n      <th>min</th>\n      <td>0.000000</td>\n      <td>1.573800e+04</td>\n      <td>1.350000e+02</td>\n      <td>NaN</td>\n      <td>NaN</td>\n      <td>NaN</td>\n      <td>NaN</td>\n      <td>1.000000</td>\n      <td>NaN</td>\n      <td>1.000000</td>\n      <td>...</td>\n      <td>NaN</td>\n      <td>NaN</td>\n      <td>NaN</td>\n      <td>NaN</td>\n      <td>NaN</td>\n      <td>NaN</td>\n      <td>NaN</td>\n      <td>NaN</td>\n      <td>NaN</td>\n      <td>0.000000</td>\n    </tr>\n    <tr>\n      <th>25%</th>\n      <td>25166.500000</td>\n      <td>8.440328e+07</td>\n      <td>2.338646e+07</td>\n      <td>NaN</td>\n      <td>NaN</td>\n      <td>NaN</td>\n      <td>NaN</td>\n      <td>2.000000</td>\n      <td>NaN</td>\n      <td>31.000000</td>\n      <td>...</td>\n      <td>NaN</td>\n      <td>NaN</td>\n      <td>NaN</td>\n      <td>NaN</td>\n      <td>NaN</td>\n      <td>NaN</td>\n      <td>NaN</td>\n      <td>NaN</td>\n      <td>NaN</td>\n      <td>0.000000</td>\n    </tr>\n    <tr>\n      <th>50%</th>\n      <td>51129.000000</td>\n      <td>1.528504e+08</td>\n      <td>4.526103e+07</td>\n      <td>NaN</td>\n      <td>NaN</td>\n      <td>NaN</td>\n      <td>NaN</td>\n      <td>4.000000</td>\n      <td>NaN</td>\n      <td>44.000000</td>\n      <td>...</td>\n      <td>NaN</td>\n      <td>NaN</td>\n      <td>NaN</td>\n      <td>NaN</td>\n      <td>NaN</td>\n      <td>NaN</td>\n      <td>NaN</td>\n      <td>NaN</td>\n      <td>NaN</td>\n      <td>0.000000</td>\n    </tr>\n    <tr>\n      <th>75%</th>\n      <td>76380.000000</td>\n      <td>2.305049e+08</td>\n      <td>8.727185e+07</td>\n      <td>NaN</td>\n      <td>NaN</td>\n      <td>NaN</td>\n      <td>NaN</td>\n      <td>6.000000</td>\n      <td>NaN</td>\n      <td>57.000000</td>\n      <td>...</td>\n      <td>NaN</td>\n      <td>NaN</td>\n      <td>NaN</td>\n      <td>NaN</td>\n      <td>NaN</td>\n      <td>NaN</td>\n      <td>NaN</td>\n      <td>NaN</td>\n      <td>NaN</td>\n      <td>1.000000</td>\n    </tr>\n    <tr>\n      <th>max</th>\n      <td>101765.000000</td>\n      <td>4.438672e+08</td>\n      <td>1.893494e+08</td>\n      <td>NaN</td>\n      <td>NaN</td>\n      <td>NaN</td>\n      <td>NaN</td>\n      <td>14.000000</td>\n      <td>NaN</td>\n      <td>129.000000</td>\n      <td>...</td>\n      <td>NaN</td>\n      <td>NaN</td>\n      <td>NaN</td>\n      <td>NaN</td>\n      <td>NaN</td>\n      <td>NaN</td>\n      <td>NaN</td>\n      <td>NaN</td>\n      <td>NaN</td>\n      <td>1.000000</td>\n    </tr>\n  </tbody>\n</table>\n<p>11 rows × 49 columns</p>\n</div>"
     },
     "execution_count": 55,
     "metadata": {},
     "output_type": "execute_result"
    }
   ],
   "source": [
    "train.describe(include=\"all\")"
   ]
  },
  {
   "cell_type": "code",
   "execution_count": 56,
   "metadata": {
    "pycharm": {
     "name": "#%%\n"
    }
   },
   "outputs": [
    {
     "data": {
      "text/plain": "              category  No. of unique values     type  \\\n0                index                 48911    int64   \n1         encounter_id                 48911    int64   \n2           patient_id                 39650    int64   \n3                 race                     6   object   \n4               gender                     3   object   \n5                  age                    10   object   \n6               weight                    10   object   \n7     time_in_hospital                    14    int64   \n8    medical_specialty                    65   object   \n9   num_lab_procedures                   113    int64   \n10      num_procedures                     7    int64   \n11     num_medications                    71    int64   \n12   number_outpatient                    33    int64   \n13    number_emergency                    26    int64   \n14    number_inpatient                    19    int64   \n15              diag_1                   652   object   \n16              diag_2                   656   object   \n17              diag_3                   707   object   \n18              diag_4                   707   object   \n19              diag_5                 48911  float64   \n20    number_diagnoses                    16    int64   \n21                  X1                     4   object   \n22                  X2                     4   object   \n23                  X3                     4   object   \n24                  X4                     4   object   \n25                  X5                     4   object   \n26                  X6                     3   object   \n27                  X7                     4   object   \n28                  X8                     1   object   \n29                  X9                     4   object   \n30                 X10                     4   object   \n31                 X11                     2   object   \n32                 X12                     4   object   \n33                 X13                     4   object   \n34                 X14                     4   object   \n35                 X15                     3   object   \n36                 X16                     2   object   \n37                 X17                     2   object   \n38                 X18                     1   object   \n39                 X19                     1   object   \n40                 X20                     4   object   \n41                 X21                     4   object   \n42                 X22                     2   object   \n43                 X23                     2   object   \n44                 X24                     2   object   \n45                 X25                     1   object   \n46              change                     2   object   \n47         diabetesMed                     2   object   \n48          readmitted                     2    int64   \n\n                                        unique values  \n0   [69375, 57272, 82347, 89608, 24091, 11756, 423...  \n1   [197029140, 163571946, 256497366, 289891212, 8...  \n2   [51521940, 92631357, 30023982, 93606021, 23464...  \n3   [Hispanic, Caucasian, AfricanAmerican, ?, Othe...  \n4                     [Male, Female, Unknown/Invalid]  \n5   [[80-90), [60-70), [50-60), [70-80), [40-50), ...  \n6   [?, [0-25), [75-100), [50-75), [25-50), [125-1...  \n7     [4, 3, 6, 5, 9, 13, 2, 7, 1, 11, 12, 10, 14, 8]  \n8   [Emergency/Trauma, Nephrology, ?, Psychiatry, ...  \n9   [39, 34, 50, 63, 17, 43, 1, 15, 70, 64, 45, 38...  \n10                              [1, 2, 0, 3, 4, 5, 6]  \n11  [9, 12, 24, 14, 11, 13, 17, 32, 28, 38, 18, 19...  \n12  [1, 0, 2, 3, 25, 6, 4, 5, 7, 16, 8, 12, 9, 10,...  \n13  [1, 0, 3, 2, 6, 8, 5, 4, 12, 7, 20, 19, 9, 16,...  \n14  [4, 0, 5, 1, 3, 2, 6, 9, 7, 10, 8, 11, 15, 14,...  \n15  [783, 564, 574, 401, 311, 410, 414, 552, 427, ...  \n16  [403, 788, 783, 276, 250.02, 411, 250, 427, 49...  \n17  [585, 569, 250, 300, 414, 998, 780, 458, 427, ...  \n18  [585, 569, 250, 300, 414, 998, 780, 458, 427, ...  \n19  [32.97096589764309, 94.11673131918376, 64.1382...  \n20  [9, 6, 7, 5, 4, 2, 8, 3, 1, 16, 10, 12, 13, 14...  \n21                           [None, >200, Norm, >300]  \n22                               [None, Norm, >8, >7]  \n23                             [No, Steady, Up, Down]  \n24                             [No, Steady, Up, Down]  \n25                             [No, Steady, Down, Up]  \n26                                   [No, Steady, Up]  \n27                             [No, Steady, Up, Down]  \n28                                               [No]  \n29                             [No, Steady, Up, Down]  \n30                             [No, Down, Steady, Up]  \n31                                       [No, Steady]  \n32                             [No, Steady, Down, Up]  \n33                             [Steady, No, Up, Down]  \n34                             [No, Steady, Up, Down]  \n35                                 [No, Down, Steady]  \n36                                       [No, Steady]  \n37                                       [No, Steady]  \n38                                               [No]  \n39                                               [No]  \n40                             [No, Down, Up, Steady]  \n41                             [No, Steady, Down, Up]  \n42                                       [No, Steady]  \n43                                       [No, Steady]  \n44                                       [No, Steady]  \n45                                               [No]  \n46                                           [No, Ch]  \n47                                          [Yes, No]  \n48                                             [1, 0]  ",
      "text/html": "<div>\n<style scoped>\n    .dataframe tbody tr th:only-of-type {\n        vertical-align: middle;\n    }\n\n    .dataframe tbody tr th {\n        vertical-align: top;\n    }\n\n    .dataframe thead th {\n        text-align: right;\n    }\n</style>\n<table border=\"1\" class=\"dataframe\">\n  <thead>\n    <tr style=\"text-align: right;\">\n      <th></th>\n      <th>category</th>\n      <th>No. of unique values</th>\n      <th>type</th>\n      <th>unique values</th>\n    </tr>\n  </thead>\n  <tbody>\n    <tr>\n      <th>0</th>\n      <td>index</td>\n      <td>48911</td>\n      <td>int64</td>\n      <td>[69375, 57272, 82347, 89608, 24091, 11756, 423...</td>\n    </tr>\n    <tr>\n      <th>1</th>\n      <td>encounter_id</td>\n      <td>48911</td>\n      <td>int64</td>\n      <td>[197029140, 163571946, 256497366, 289891212, 8...</td>\n    </tr>\n    <tr>\n      <th>2</th>\n      <td>patient_id</td>\n      <td>39650</td>\n      <td>int64</td>\n      <td>[51521940, 92631357, 30023982, 93606021, 23464...</td>\n    </tr>\n    <tr>\n      <th>3</th>\n      <td>race</td>\n      <td>6</td>\n      <td>object</td>\n      <td>[Hispanic, Caucasian, AfricanAmerican, ?, Othe...</td>\n    </tr>\n    <tr>\n      <th>4</th>\n      <td>gender</td>\n      <td>3</td>\n      <td>object</td>\n      <td>[Male, Female, Unknown/Invalid]</td>\n    </tr>\n    <tr>\n      <th>5</th>\n      <td>age</td>\n      <td>10</td>\n      <td>object</td>\n      <td>[[80-90), [60-70), [50-60), [70-80), [40-50), ...</td>\n    </tr>\n    <tr>\n      <th>6</th>\n      <td>weight</td>\n      <td>10</td>\n      <td>object</td>\n      <td>[?, [0-25), [75-100), [50-75), [25-50), [125-1...</td>\n    </tr>\n    <tr>\n      <th>7</th>\n      <td>time_in_hospital</td>\n      <td>14</td>\n      <td>int64</td>\n      <td>[4, 3, 6, 5, 9, 13, 2, 7, 1, 11, 12, 10, 14, 8]</td>\n    </tr>\n    <tr>\n      <th>8</th>\n      <td>medical_specialty</td>\n      <td>65</td>\n      <td>object</td>\n      <td>[Emergency/Trauma, Nephrology, ?, Psychiatry, ...</td>\n    </tr>\n    <tr>\n      <th>9</th>\n      <td>num_lab_procedures</td>\n      <td>113</td>\n      <td>int64</td>\n      <td>[39, 34, 50, 63, 17, 43, 1, 15, 70, 64, 45, 38...</td>\n    </tr>\n    <tr>\n      <th>10</th>\n      <td>num_procedures</td>\n      <td>7</td>\n      <td>int64</td>\n      <td>[1, 2, 0, 3, 4, 5, 6]</td>\n    </tr>\n    <tr>\n      <th>11</th>\n      <td>num_medications</td>\n      <td>71</td>\n      <td>int64</td>\n      <td>[9, 12, 24, 14, 11, 13, 17, 32, 28, 38, 18, 19...</td>\n    </tr>\n    <tr>\n      <th>12</th>\n      <td>number_outpatient</td>\n      <td>33</td>\n      <td>int64</td>\n      <td>[1, 0, 2, 3, 25, 6, 4, 5, 7, 16, 8, 12, 9, 10,...</td>\n    </tr>\n    <tr>\n      <th>13</th>\n      <td>number_emergency</td>\n      <td>26</td>\n      <td>int64</td>\n      <td>[1, 0, 3, 2, 6, 8, 5, 4, 12, 7, 20, 19, 9, 16,...</td>\n    </tr>\n    <tr>\n      <th>14</th>\n      <td>number_inpatient</td>\n      <td>19</td>\n      <td>int64</td>\n      <td>[4, 0, 5, 1, 3, 2, 6, 9, 7, 10, 8, 11, 15, 14,...</td>\n    </tr>\n    <tr>\n      <th>15</th>\n      <td>diag_1</td>\n      <td>652</td>\n      <td>object</td>\n      <td>[783, 564, 574, 401, 311, 410, 414, 552, 427, ...</td>\n    </tr>\n    <tr>\n      <th>16</th>\n      <td>diag_2</td>\n      <td>656</td>\n      <td>object</td>\n      <td>[403, 788, 783, 276, 250.02, 411, 250, 427, 49...</td>\n    </tr>\n    <tr>\n      <th>17</th>\n      <td>diag_3</td>\n      <td>707</td>\n      <td>object</td>\n      <td>[585, 569, 250, 300, 414, 998, 780, 458, 427, ...</td>\n    </tr>\n    <tr>\n      <th>18</th>\n      <td>diag_4</td>\n      <td>707</td>\n      <td>object</td>\n      <td>[585, 569, 250, 300, 414, 998, 780, 458, 427, ...</td>\n    </tr>\n    <tr>\n      <th>19</th>\n      <td>diag_5</td>\n      <td>48911</td>\n      <td>float64</td>\n      <td>[32.97096589764309, 94.11673131918376, 64.1382...</td>\n    </tr>\n    <tr>\n      <th>20</th>\n      <td>number_diagnoses</td>\n      <td>16</td>\n      <td>int64</td>\n      <td>[9, 6, 7, 5, 4, 2, 8, 3, 1, 16, 10, 12, 13, 14...</td>\n    </tr>\n    <tr>\n      <th>21</th>\n      <td>X1</td>\n      <td>4</td>\n      <td>object</td>\n      <td>[None, &gt;200, Norm, &gt;300]</td>\n    </tr>\n    <tr>\n      <th>22</th>\n      <td>X2</td>\n      <td>4</td>\n      <td>object</td>\n      <td>[None, Norm, &gt;8, &gt;7]</td>\n    </tr>\n    <tr>\n      <th>23</th>\n      <td>X3</td>\n      <td>4</td>\n      <td>object</td>\n      <td>[No, Steady, Up, Down]</td>\n    </tr>\n    <tr>\n      <th>24</th>\n      <td>X4</td>\n      <td>4</td>\n      <td>object</td>\n      <td>[No, Steady, Up, Down]</td>\n    </tr>\n    <tr>\n      <th>25</th>\n      <td>X5</td>\n      <td>4</td>\n      <td>object</td>\n      <td>[No, Steady, Down, Up]</td>\n    </tr>\n    <tr>\n      <th>26</th>\n      <td>X6</td>\n      <td>3</td>\n      <td>object</td>\n      <td>[No, Steady, Up]</td>\n    </tr>\n    <tr>\n      <th>27</th>\n      <td>X7</td>\n      <td>4</td>\n      <td>object</td>\n      <td>[No, Steady, Up, Down]</td>\n    </tr>\n    <tr>\n      <th>28</th>\n      <td>X8</td>\n      <td>1</td>\n      <td>object</td>\n      <td>[No]</td>\n    </tr>\n    <tr>\n      <th>29</th>\n      <td>X9</td>\n      <td>4</td>\n      <td>object</td>\n      <td>[No, Steady, Up, Down]</td>\n    </tr>\n    <tr>\n      <th>30</th>\n      <td>X10</td>\n      <td>4</td>\n      <td>object</td>\n      <td>[No, Down, Steady, Up]</td>\n    </tr>\n    <tr>\n      <th>31</th>\n      <td>X11</td>\n      <td>2</td>\n      <td>object</td>\n      <td>[No, Steady]</td>\n    </tr>\n    <tr>\n      <th>32</th>\n      <td>X12</td>\n      <td>4</td>\n      <td>object</td>\n      <td>[No, Steady, Down, Up]</td>\n    </tr>\n    <tr>\n      <th>33</th>\n      <td>X13</td>\n      <td>4</td>\n      <td>object</td>\n      <td>[Steady, No, Up, Down]</td>\n    </tr>\n    <tr>\n      <th>34</th>\n      <td>X14</td>\n      <td>4</td>\n      <td>object</td>\n      <td>[No, Steady, Up, Down]</td>\n    </tr>\n    <tr>\n      <th>35</th>\n      <td>X15</td>\n      <td>3</td>\n      <td>object</td>\n      <td>[No, Down, Steady]</td>\n    </tr>\n    <tr>\n      <th>36</th>\n      <td>X16</td>\n      <td>2</td>\n      <td>object</td>\n      <td>[No, Steady]</td>\n    </tr>\n    <tr>\n      <th>37</th>\n      <td>X17</td>\n      <td>2</td>\n      <td>object</td>\n      <td>[No, Steady]</td>\n    </tr>\n    <tr>\n      <th>38</th>\n      <td>X18</td>\n      <td>1</td>\n      <td>object</td>\n      <td>[No]</td>\n    </tr>\n    <tr>\n      <th>39</th>\n      <td>X19</td>\n      <td>1</td>\n      <td>object</td>\n      <td>[No]</td>\n    </tr>\n    <tr>\n      <th>40</th>\n      <td>X20</td>\n      <td>4</td>\n      <td>object</td>\n      <td>[No, Down, Up, Steady]</td>\n    </tr>\n    <tr>\n      <th>41</th>\n      <td>X21</td>\n      <td>4</td>\n      <td>object</td>\n      <td>[No, Steady, Down, Up]</td>\n    </tr>\n    <tr>\n      <th>42</th>\n      <td>X22</td>\n      <td>2</td>\n      <td>object</td>\n      <td>[No, Steady]</td>\n    </tr>\n    <tr>\n      <th>43</th>\n      <td>X23</td>\n      <td>2</td>\n      <td>object</td>\n      <td>[No, Steady]</td>\n    </tr>\n    <tr>\n      <th>44</th>\n      <td>X24</td>\n      <td>2</td>\n      <td>object</td>\n      <td>[No, Steady]</td>\n    </tr>\n    <tr>\n      <th>45</th>\n      <td>X25</td>\n      <td>1</td>\n      <td>object</td>\n      <td>[No]</td>\n    </tr>\n    <tr>\n      <th>46</th>\n      <td>change</td>\n      <td>2</td>\n      <td>object</td>\n      <td>[No, Ch]</td>\n    </tr>\n    <tr>\n      <th>47</th>\n      <td>diabetesMed</td>\n      <td>2</td>\n      <td>object</td>\n      <td>[Yes, No]</td>\n    </tr>\n    <tr>\n      <th>48</th>\n      <td>readmitted</td>\n      <td>2</td>\n      <td>int64</td>\n      <td>[1, 0]</td>\n    </tr>\n  </tbody>\n</table>\n</div>"
     },
     "execution_count": 56,
     "metadata": {},
     "output_type": "execute_result"
    }
   ],
   "source": [
    "list_unique = list((i, train[i].nunique(), train[i].dtype, train[i].unique()) for i in train.columns)\n",
    "pd_unique = pd.DataFrame(list_unique, columns=[\"category\", \"No. of unique values\", \"type\", \"unique values\"], index=None)\n",
    "pd_unique"
   ]
  },
  {
   "cell_type": "code",
   "execution_count": 57,
   "metadata": {
    "pycharm": {
     "name": "#%%\n"
    }
   },
   "outputs": [
    {
     "data": {
      "text/plain": "index                 0.0\nencounter_id          0.0\npatient_id            0.0\nrace                  0.0\ngender                0.0\nage                   0.0\nweight                0.0\ntime_in_hospital      0.0\nmedical_specialty     0.0\nnum_lab_procedures    0.0\nnum_procedures        0.0\nnum_medications       0.0\nnumber_outpatient     0.0\nnumber_emergency      0.0\nnumber_inpatient      0.0\ndiag_1                0.0\ndiag_2                0.0\ndiag_3                0.0\ndiag_4                0.0\ndiag_5                0.0\nnumber_diagnoses      0.0\nX1                    0.0\nX2                    0.0\nX3                    0.0\nX4                    0.0\nX5                    0.0\nX6                    0.0\nX7                    0.0\nX8                    0.0\nX9                    0.0\nX10                   0.0\nX11                   0.0\nX12                   0.0\nX13                   0.0\nX14                   0.0\nX15                   0.0\nX16                   0.0\nX17                   0.0\nX18                   0.0\nX19                   0.0\nX20                   0.0\nX21                   0.0\nX22                   0.0\nX23                   0.0\nX24                   0.0\nX25                   0.0\nchange                0.0\ndiabetesMed           0.0\nreadmitted            0.0\ndtype: float64"
     },
     "execution_count": 57,
     "metadata": {},
     "output_type": "execute_result"
    }
   ],
   "source": [
    "round((train.isnull().sum()/len(train.index))*100,2)"
   ]
  },
  {
   "cell_type": "code",
   "execution_count": 58,
   "metadata": {
    "pycharm": {
     "name": "#%%\n"
    }
   },
   "outputs": [],
   "source": [
    " train= train.replace('?', np.nan)\n",
    " test= test.replace('?', np.nan)"
   ]
  },
  {
   "cell_type": "code",
   "execution_count": 59,
   "metadata": {
    "pycharm": {
     "name": "#%%\n"
    }
   },
   "outputs": [
    {
     "data": {
      "text/plain": "index                  0.00\nencounter_id           0.00\npatient_id             0.00\nrace                   2.26\ngender                 0.00\nage                    0.00\nweight                96.80\ntime_in_hospital       0.00\nmedical_specialty     49.07\nnum_lab_procedures     0.00\nnum_procedures         0.00\nnum_medications        0.00\nnumber_outpatient      0.00\nnumber_emergency       0.00\nnumber_inpatient       0.00\ndiag_1                 0.02\ndiag_2                 0.35\ndiag_3                 1.43\ndiag_4                 1.43\ndiag_5                 0.00\nnumber_diagnoses       0.00\nX1                     0.00\nX2                     0.00\nX3                     0.00\nX4                     0.00\nX5                     0.00\nX6                     0.00\nX7                     0.00\nX8                     0.00\nX9                     0.00\nX10                    0.00\nX11                    0.00\nX12                    0.00\nX13                    0.00\nX14                    0.00\nX15                    0.00\nX16                    0.00\nX17                    0.00\nX18                    0.00\nX19                    0.00\nX20                    0.00\nX21                    0.00\nX22                    0.00\nX23                    0.00\nX24                    0.00\nX25                    0.00\nchange                 0.00\ndiabetesMed            0.00\nreadmitted             0.00\ndtype: float64"
     },
     "execution_count": 59,
     "metadata": {},
     "output_type": "execute_result"
    }
   ],
   "source": [
    "round((train.isnull().sum()/len(train.index))*100,2)"
   ]
  },
  {
   "cell_type": "code",
   "execution_count": 60,
   "metadata": {
    "pycharm": {
     "name": "#%%\n"
    }
   },
   "outputs": [
    {
     "data": {
      "text/plain": "              category  No. of unique values     type  \\\n0                index                 48911    int64   \n1         encounter_id                 48911    int64   \n2           patient_id                 39650    int64   \n3                 race                     5   object   \n4               gender                     3   object   \n5                  age                    10   object   \n6               weight                     9   object   \n7     time_in_hospital                    14    int64   \n8    medical_specialty                    64   object   \n9   num_lab_procedures                   113    int64   \n10      num_procedures                     7    int64   \n11     num_medications                    71    int64   \n12   number_outpatient                    33    int64   \n13    number_emergency                    26    int64   \n14    number_inpatient                    19    int64   \n15              diag_1                   651   object   \n16              diag_2                   655   object   \n17              diag_3                   706   object   \n18              diag_4                   706   object   \n19              diag_5                 48911  float64   \n20    number_diagnoses                    16    int64   \n21                  X1                     4   object   \n22                  X2                     4   object   \n23                  X3                     4   object   \n24                  X4                     4   object   \n25                  X5                     4   object   \n26                  X6                     3   object   \n27                  X7                     4   object   \n28                  X8                     1   object   \n29                  X9                     4   object   \n30                 X10                     4   object   \n31                 X11                     2   object   \n32                 X12                     4   object   \n33                 X13                     4   object   \n34                 X14                     4   object   \n35                 X15                     3   object   \n36                 X16                     2   object   \n37                 X17                     2   object   \n38                 X18                     1   object   \n39                 X19                     1   object   \n40                 X20                     4   object   \n41                 X21                     4   object   \n42                 X22                     2   object   \n43                 X23                     2   object   \n44                 X24                     2   object   \n45                 X25                     1   object   \n46              change                     2   object   \n47         diabetesMed                     2   object   \n48          readmitted                     2    int64   \n\n                                        unique values  \n0   [69375, 57272, 82347, 89608, 24091, 11756, 423...  \n1   [197029140, 163571946, 256497366, 289891212, 8...  \n2   [51521940, 92631357, 30023982, 93606021, 23464...  \n3   [Hispanic, Caucasian, AfricanAmerican, nan, Ot...  \n4                     [Male, Female, Unknown/Invalid]  \n5   [[80-90), [60-70), [50-60), [70-80), [40-50), ...  \n6   [nan, [0-25), [75-100), [50-75), [25-50), [125...  \n7     [4, 3, 6, 5, 9, 13, 2, 7, 1, 11, 12, 10, 14, 8]  \n8   [Emergency/Trauma, Nephrology, nan, Psychiatry...  \n9   [39, 34, 50, 63, 17, 43, 1, 15, 70, 64, 45, 38...  \n10                              [1, 2, 0, 3, 4, 5, 6]  \n11  [9, 12, 24, 14, 11, 13, 17, 32, 28, 38, 18, 19...  \n12  [1, 0, 2, 3, 25, 6, 4, 5, 7, 16, 8, 12, 9, 10,...  \n13  [1, 0, 3, 2, 6, 8, 5, 4, 12, 7, 20, 19, 9, 16,...  \n14  [4, 0, 5, 1, 3, 2, 6, 9, 7, 10, 8, 11, 15, 14,...  \n15  [783, 564, 574, 401, 311, 410, 414, 552, 427, ...  \n16  [403, 788, 783, 276, 250.02, 411, 250, 427, 49...  \n17  [585, 569, 250, 300, 414, 998, 780, 458, 427, ...  \n18  [585, 569, 250, 300, 414, 998, 780, 458, 427, ...  \n19  [32.97096589764309, 94.11673131918376, 64.1382...  \n20  [9, 6, 7, 5, 4, 2, 8, 3, 1, 16, 10, 12, 13, 14...  \n21                           [None, >200, Norm, >300]  \n22                               [None, Norm, >8, >7]  \n23                             [No, Steady, Up, Down]  \n24                             [No, Steady, Up, Down]  \n25                             [No, Steady, Down, Up]  \n26                                   [No, Steady, Up]  \n27                             [No, Steady, Up, Down]  \n28                                               [No]  \n29                             [No, Steady, Up, Down]  \n30                             [No, Down, Steady, Up]  \n31                                       [No, Steady]  \n32                             [No, Steady, Down, Up]  \n33                             [Steady, No, Up, Down]  \n34                             [No, Steady, Up, Down]  \n35                                 [No, Down, Steady]  \n36                                       [No, Steady]  \n37                                       [No, Steady]  \n38                                               [No]  \n39                                               [No]  \n40                             [No, Down, Up, Steady]  \n41                             [No, Steady, Down, Up]  \n42                                       [No, Steady]  \n43                                       [No, Steady]  \n44                                       [No, Steady]  \n45                                               [No]  \n46                                           [No, Ch]  \n47                                          [Yes, No]  \n48                                             [1, 0]  ",
      "text/html": "<div>\n<style scoped>\n    .dataframe tbody tr th:only-of-type {\n        vertical-align: middle;\n    }\n\n    .dataframe tbody tr th {\n        vertical-align: top;\n    }\n\n    .dataframe thead th {\n        text-align: right;\n    }\n</style>\n<table border=\"1\" class=\"dataframe\">\n  <thead>\n    <tr style=\"text-align: right;\">\n      <th></th>\n      <th>category</th>\n      <th>No. of unique values</th>\n      <th>type</th>\n      <th>unique values</th>\n    </tr>\n  </thead>\n  <tbody>\n    <tr>\n      <th>0</th>\n      <td>index</td>\n      <td>48911</td>\n      <td>int64</td>\n      <td>[69375, 57272, 82347, 89608, 24091, 11756, 423...</td>\n    </tr>\n    <tr>\n      <th>1</th>\n      <td>encounter_id</td>\n      <td>48911</td>\n      <td>int64</td>\n      <td>[197029140, 163571946, 256497366, 289891212, 8...</td>\n    </tr>\n    <tr>\n      <th>2</th>\n      <td>patient_id</td>\n      <td>39650</td>\n      <td>int64</td>\n      <td>[51521940, 92631357, 30023982, 93606021, 23464...</td>\n    </tr>\n    <tr>\n      <th>3</th>\n      <td>race</td>\n      <td>5</td>\n      <td>object</td>\n      <td>[Hispanic, Caucasian, AfricanAmerican, nan, Ot...</td>\n    </tr>\n    <tr>\n      <th>4</th>\n      <td>gender</td>\n      <td>3</td>\n      <td>object</td>\n      <td>[Male, Female, Unknown/Invalid]</td>\n    </tr>\n    <tr>\n      <th>5</th>\n      <td>age</td>\n      <td>10</td>\n      <td>object</td>\n      <td>[[80-90), [60-70), [50-60), [70-80), [40-50), ...</td>\n    </tr>\n    <tr>\n      <th>6</th>\n      <td>weight</td>\n      <td>9</td>\n      <td>object</td>\n      <td>[nan, [0-25), [75-100), [50-75), [25-50), [125...</td>\n    </tr>\n    <tr>\n      <th>7</th>\n      <td>time_in_hospital</td>\n      <td>14</td>\n      <td>int64</td>\n      <td>[4, 3, 6, 5, 9, 13, 2, 7, 1, 11, 12, 10, 14, 8]</td>\n    </tr>\n    <tr>\n      <th>8</th>\n      <td>medical_specialty</td>\n      <td>64</td>\n      <td>object</td>\n      <td>[Emergency/Trauma, Nephrology, nan, Psychiatry...</td>\n    </tr>\n    <tr>\n      <th>9</th>\n      <td>num_lab_procedures</td>\n      <td>113</td>\n      <td>int64</td>\n      <td>[39, 34, 50, 63, 17, 43, 1, 15, 70, 64, 45, 38...</td>\n    </tr>\n    <tr>\n      <th>10</th>\n      <td>num_procedures</td>\n      <td>7</td>\n      <td>int64</td>\n      <td>[1, 2, 0, 3, 4, 5, 6]</td>\n    </tr>\n    <tr>\n      <th>11</th>\n      <td>num_medications</td>\n      <td>71</td>\n      <td>int64</td>\n      <td>[9, 12, 24, 14, 11, 13, 17, 32, 28, 38, 18, 19...</td>\n    </tr>\n    <tr>\n      <th>12</th>\n      <td>number_outpatient</td>\n      <td>33</td>\n      <td>int64</td>\n      <td>[1, 0, 2, 3, 25, 6, 4, 5, 7, 16, 8, 12, 9, 10,...</td>\n    </tr>\n    <tr>\n      <th>13</th>\n      <td>number_emergency</td>\n      <td>26</td>\n      <td>int64</td>\n      <td>[1, 0, 3, 2, 6, 8, 5, 4, 12, 7, 20, 19, 9, 16,...</td>\n    </tr>\n    <tr>\n      <th>14</th>\n      <td>number_inpatient</td>\n      <td>19</td>\n      <td>int64</td>\n      <td>[4, 0, 5, 1, 3, 2, 6, 9, 7, 10, 8, 11, 15, 14,...</td>\n    </tr>\n    <tr>\n      <th>15</th>\n      <td>diag_1</td>\n      <td>651</td>\n      <td>object</td>\n      <td>[783, 564, 574, 401, 311, 410, 414, 552, 427, ...</td>\n    </tr>\n    <tr>\n      <th>16</th>\n      <td>diag_2</td>\n      <td>655</td>\n      <td>object</td>\n      <td>[403, 788, 783, 276, 250.02, 411, 250, 427, 49...</td>\n    </tr>\n    <tr>\n      <th>17</th>\n      <td>diag_3</td>\n      <td>706</td>\n      <td>object</td>\n      <td>[585, 569, 250, 300, 414, 998, 780, 458, 427, ...</td>\n    </tr>\n    <tr>\n      <th>18</th>\n      <td>diag_4</td>\n      <td>706</td>\n      <td>object</td>\n      <td>[585, 569, 250, 300, 414, 998, 780, 458, 427, ...</td>\n    </tr>\n    <tr>\n      <th>19</th>\n      <td>diag_5</td>\n      <td>48911</td>\n      <td>float64</td>\n      <td>[32.97096589764309, 94.11673131918376, 64.1382...</td>\n    </tr>\n    <tr>\n      <th>20</th>\n      <td>number_diagnoses</td>\n      <td>16</td>\n      <td>int64</td>\n      <td>[9, 6, 7, 5, 4, 2, 8, 3, 1, 16, 10, 12, 13, 14...</td>\n    </tr>\n    <tr>\n      <th>21</th>\n      <td>X1</td>\n      <td>4</td>\n      <td>object</td>\n      <td>[None, &gt;200, Norm, &gt;300]</td>\n    </tr>\n    <tr>\n      <th>22</th>\n      <td>X2</td>\n      <td>4</td>\n      <td>object</td>\n      <td>[None, Norm, &gt;8, &gt;7]</td>\n    </tr>\n    <tr>\n      <th>23</th>\n      <td>X3</td>\n      <td>4</td>\n      <td>object</td>\n      <td>[No, Steady, Up, Down]</td>\n    </tr>\n    <tr>\n      <th>24</th>\n      <td>X4</td>\n      <td>4</td>\n      <td>object</td>\n      <td>[No, Steady, Up, Down]</td>\n    </tr>\n    <tr>\n      <th>25</th>\n      <td>X5</td>\n      <td>4</td>\n      <td>object</td>\n      <td>[No, Steady, Down, Up]</td>\n    </tr>\n    <tr>\n      <th>26</th>\n      <td>X6</td>\n      <td>3</td>\n      <td>object</td>\n      <td>[No, Steady, Up]</td>\n    </tr>\n    <tr>\n      <th>27</th>\n      <td>X7</td>\n      <td>4</td>\n      <td>object</td>\n      <td>[No, Steady, Up, Down]</td>\n    </tr>\n    <tr>\n      <th>28</th>\n      <td>X8</td>\n      <td>1</td>\n      <td>object</td>\n      <td>[No]</td>\n    </tr>\n    <tr>\n      <th>29</th>\n      <td>X9</td>\n      <td>4</td>\n      <td>object</td>\n      <td>[No, Steady, Up, Down]</td>\n    </tr>\n    <tr>\n      <th>30</th>\n      <td>X10</td>\n      <td>4</td>\n      <td>object</td>\n      <td>[No, Down, Steady, Up]</td>\n    </tr>\n    <tr>\n      <th>31</th>\n      <td>X11</td>\n      <td>2</td>\n      <td>object</td>\n      <td>[No, Steady]</td>\n    </tr>\n    <tr>\n      <th>32</th>\n      <td>X12</td>\n      <td>4</td>\n      <td>object</td>\n      <td>[No, Steady, Down, Up]</td>\n    </tr>\n    <tr>\n      <th>33</th>\n      <td>X13</td>\n      <td>4</td>\n      <td>object</td>\n      <td>[Steady, No, Up, Down]</td>\n    </tr>\n    <tr>\n      <th>34</th>\n      <td>X14</td>\n      <td>4</td>\n      <td>object</td>\n      <td>[No, Steady, Up, Down]</td>\n    </tr>\n    <tr>\n      <th>35</th>\n      <td>X15</td>\n      <td>3</td>\n      <td>object</td>\n      <td>[No, Down, Steady]</td>\n    </tr>\n    <tr>\n      <th>36</th>\n      <td>X16</td>\n      <td>2</td>\n      <td>object</td>\n      <td>[No, Steady]</td>\n    </tr>\n    <tr>\n      <th>37</th>\n      <td>X17</td>\n      <td>2</td>\n      <td>object</td>\n      <td>[No, Steady]</td>\n    </tr>\n    <tr>\n      <th>38</th>\n      <td>X18</td>\n      <td>1</td>\n      <td>object</td>\n      <td>[No]</td>\n    </tr>\n    <tr>\n      <th>39</th>\n      <td>X19</td>\n      <td>1</td>\n      <td>object</td>\n      <td>[No]</td>\n    </tr>\n    <tr>\n      <th>40</th>\n      <td>X20</td>\n      <td>4</td>\n      <td>object</td>\n      <td>[No, Down, Up, Steady]</td>\n    </tr>\n    <tr>\n      <th>41</th>\n      <td>X21</td>\n      <td>4</td>\n      <td>object</td>\n      <td>[No, Steady, Down, Up]</td>\n    </tr>\n    <tr>\n      <th>42</th>\n      <td>X22</td>\n      <td>2</td>\n      <td>object</td>\n      <td>[No, Steady]</td>\n    </tr>\n    <tr>\n      <th>43</th>\n      <td>X23</td>\n      <td>2</td>\n      <td>object</td>\n      <td>[No, Steady]</td>\n    </tr>\n    <tr>\n      <th>44</th>\n      <td>X24</td>\n      <td>2</td>\n      <td>object</td>\n      <td>[No, Steady]</td>\n    </tr>\n    <tr>\n      <th>45</th>\n      <td>X25</td>\n      <td>1</td>\n      <td>object</td>\n      <td>[No]</td>\n    </tr>\n    <tr>\n      <th>46</th>\n      <td>change</td>\n      <td>2</td>\n      <td>object</td>\n      <td>[No, Ch]</td>\n    </tr>\n    <tr>\n      <th>47</th>\n      <td>diabetesMed</td>\n      <td>2</td>\n      <td>object</td>\n      <td>[Yes, No]</td>\n    </tr>\n    <tr>\n      <th>48</th>\n      <td>readmitted</td>\n      <td>2</td>\n      <td>int64</td>\n      <td>[1, 0]</td>\n    </tr>\n  </tbody>\n</table>\n</div>"
     },
     "execution_count": 60,
     "metadata": {},
     "output_type": "execute_result"
    }
   ],
   "source": [
    "list_unique= list((i, train[i].nunique(), train[i].dtype, train[i].unique()) for i in train.columns)\n",
    "pd_unique = pd.DataFrame(list_unique,columns =[\"category\",\"No. of unique values\",\"type\",\"unique values\"],index=None)\n",
    "pd_unique"
   ]
  },
  {
   "cell_type": "code",
   "execution_count": 61,
   "metadata": {
    "pycharm": {
     "name": "#%%\n"
    }
   },
   "outputs": [],
   "source": [
    "train = train.replace('Unknown/Invalid', np.nan)\n",
    "test = test.replace('Unknown/Invalid', np.nan)\n",
    "\n",
    "train['gender'] = train['gender'].fillna(train['gender'].mode()[0])\n",
    "test['gender'] = test['gender'].fillna(test['gender'].mode()[0])"
   ]
  },
  {
   "cell_type": "code",
   "execution_count": 62,
   "metadata": {
    "pycharm": {
     "name": "#%%\n"
    }
   },
   "outputs": [],
   "source": [
    "train=train.drop([\"weight\",'medical_specialty'],axis=1)\n",
    "test=test.drop([\"weight\",'medical_specialty'],axis=1)"
   ]
  },
  {
   "cell_type": "code",
   "execution_count": 63,
   "metadata": {
    "pycharm": {
     "name": "#%%\n"
    }
   },
   "outputs": [
    {
     "data": {
      "text/plain": "<Figure size 720x360 with 1 Axes>",
      "image/png": "[encoded data removed]"
     },
     "metadata": {
      "needs_background": "light"
     },
     "output_type": "display_data"
    },
    {
     "data": {
      "text/plain": "<Figure size 720x360 with 1 Axes>",
      "image/png": "[encoded data removed]"
     },
     "metadata": {
      "needs_background": "light"
     },
     "output_type": "display_data"
    },
    {
     "data": {
      "text/plain": "<Figure size 720x360 with 1 Axes>",
      "image/png": "[encoded data removed]"
     },
     "metadata": {
      "needs_background": "light"
     },
     "output_type": "display_data"
    },
    {
     "data": {
      "text/plain": "<Figure size 720x360 with 1 Axes>",
      "image/png": "[encoded data removed]"
     },
     "metadata": {
      "needs_background": "light"
     },
     "output_type": "display_data"
    },
    {
     "data": {
      "text/plain": "<Figure size 720x360 with 1 Axes>",
      "image/png": "[encoded data removed]"
     },
     "metadata": {
      "needs_background": "light"
     },
     "output_type": "display_data"
    }
   ],
   "source": [
    " for i in (\"race\",\"diag_1\",\"diag_2\",\"diag_3\",\"diag_4\"):\n",
    "        count  = train[i].value_counts().nlargest(5)\n",
    "        plt.figure(figsize=(10,5))\n",
    "        sns.barplot(count.index, count.values, alpha=0.8)\n",
    "        plt.ylabel('Number of Occurrences', fontsize=12)\n",
    "        plt.xlabel(i, fontsize=12,fontweight='bold')\n",
    "        plt.show()"
   ]
  },
  {
   "cell_type": "code",
   "execution_count": 64,
   "metadata": {
    "pycharm": {
     "name": "#%%\n"
    }
   },
   "outputs": [],
   "source": [
    "train['race'] = train['race'].fillna(train['race'].mode()[0])\n",
    "train['diag_1'] = train['diag_1'].fillna(train['diag_1'].mode()[0])\n",
    "train['diag_2'] = train['diag_2'].fillna(train['diag_2'].mode()[0])\n",
    "train['diag_3'] = train['diag_3'].fillna(train['diag_3'].mode()[0])\n",
    "train['diag_4'] = train['diag_4'].fillna(train['diag_4'].mode()[0])\n",
    "\n",
    "test['race'] = test['race'].fillna(test['race'].mode()[0])\n",
    "test['diag_1'] = test['diag_1'].fillna(test['diag_1'].mode()[0])\n",
    "test['diag_2'] = test['diag_2'].fillna(test['diag_2'].mode()[0])\n",
    "test['diag_3'] = test['diag_3'].fillna(test['diag_3'].mode()[0])\n",
    "test['diag_4'] = test['diag_4'].fillna(test['diag_4'].mode()[0])"
   ]
  },
  {
   "cell_type": "code",
   "execution_count": 65,
   "metadata": {
    "pycharm": {
     "name": "#%%\n"
    }
   },
   "outputs": [
    {
     "data": {
      "text/plain": "Index(['race', 'gender', 'age', 'diag_1', 'diag_2', 'diag_3', 'diag_4', 'X1',\n       'X2', 'X3', 'X4', 'X5', 'X6', 'X7', 'X8', 'X9', 'X10', 'X11', 'X12',\n       'X13', 'X14', 'X15', 'X16', 'X17', 'X18', 'X19', 'X20', 'X21', 'X22',\n       'X23', 'X24', 'X25', 'change', 'diabetesMed'],\n      dtype='object')"
     },
     "execution_count": 65,
     "metadata": {},
     "output_type": "execute_result"
    }
   ],
   "source": [
    "object_col_train = train.select_dtypes(include=[\"object_\"])\n",
    "object_col_train.columns\n",
    "\n",
    "object_col_test = test.select_dtypes(include=[\"object_\"])\n",
    "object_col_test.columns"
   ]
  },
  {
   "cell_type": "code",
   "execution_count": 66,
   "metadata": {
    "pycharm": {
     "name": "#%%\n"
    }
   },
   "outputs": [
    {
     "data": {
      "text/plain": "Index(['index', 'encounter_id', 'patient_id', 'time_in_hospital',\n       'num_lab_procedures', 'num_procedures', 'num_medications',\n       'number_outpatient', 'number_emergency', 'number_inpatient', 'diag_5',\n       'number_diagnoses'],\n      dtype='object')"
     },
     "execution_count": 66,
     "metadata": {},
     "output_type": "execute_result"
    }
   ],
   "source": [
    "num_col_train = train.select_dtypes(include=[\"int64\", \"float64\"])\n",
    "num_col_train.columns\n",
    "\n",
    "num_col_test = test.select_dtypes(include=[\"int64\", \"float64\"])\n",
    "num_col_test.columns"
   ]
  },
  {
   "cell_type": "code",
   "execution_count": 67,
   "metadata": {
    "pycharm": {
     "name": "#%%\n"
    }
   },
   "outputs": [],
   "source": [
    "for col in [object_col_train.columns]:\n",
    "    train[col] = train[col].astype('category')\n",
    "cat_col_train = train.select_dtypes(include=[\"category\"])\n",
    "\n",
    "for col in [object_col_test.columns]:\n",
    "    test[col] = test[col].astype('category')\n",
    "cat_col_test = test.select_dtypes(include=[\"category\"])"
   ]
  },
  {
   "cell_type": "code",
   "execution_count": 68,
   "metadata": {
    "pycharm": {
     "name": "#%%\n"
    }
   },
   "outputs": [],
   "source": [
    "realnum_col = ['time_in_hospital',\n",
    "       'num_lab_procedures', 'num_medications',\n",
    "       'number_outpatient', 'number_emergency', 'number_inpatient', 'diag_5',\n",
    "       'number_diagnoses']"
   ]
  },
  {
   "cell_type": "code",
   "execution_count": 69,
   "metadata": {
    "pycharm": {
     "name": "#%%\n"
    }
   },
   "outputs": [
    {
     "data": {
      "text/plain": "'fig, axs = plt.subplots(ncols=2, nrows=4, figsize=(20,30))\\nindex = 0\\naxs = axs.flatten()\\nfor i, ax in enumerate(axs.flat):\\n    sns.distplot(train[realnum_col].iloc[:,i], ax=axs[index])\\n    index += 1\\nplt.tight_layout()'"
     },
     "execution_count": 69,
     "metadata": {},
     "output_type": "execute_result"
    }
   ],
   "source": [
    "\"\"\"fig, axs = plt.subplots(ncols=2, nrows=4, figsize=(20,30))\n",
    "index = 0\n",
    "axs = axs.flatten()\n",
    "for i, ax in enumerate(axs.flat):\n",
    "    sns.distplot(train[realnum_col].iloc[:,i], ax=axs[index])\n",
    "    index += 1\n",
    "plt.tight_layout()\"\"\""
   ]
  },
  {
   "cell_type": "code",
   "execution_count": 70,
   "metadata": {
    "pycharm": {
     "name": "#%%\n"
    }
   },
   "outputs": [],
   "source": [
    "train = train[~(train['number_outpatient'] >= 6.0)]\n",
    "train = train[~(train['num_lab_procedures'] >= 100.0)]\n",
    "train = train[~(train['num_medications'] >= 50.0)]\n",
    "train = train[~(train['number_emergency'] >= 5.0)]\n",
    "train = train[~(train['number_inpatient'] >= 6.0)]\n",
    "\n",
    "test = test[~(test['number_outpatient'] >= 6.0)]\n",
    "test = test[~(test['num_lab_procedures'] >= 100.0)]\n",
    "test = test[~(test['num_medications'] >= 50.0)]\n",
    "test = test[~(test['number_emergency'] >= 5.0)]\n",
    "test = test[~(test['number_inpatient'] >= 6.0)]"
   ]
  },
  {
   "cell_type": "code",
   "execution_count": 71,
   "metadata": {
    "pycharm": {
     "name": "#%%\n"
    }
   },
   "outputs": [
    {
     "data": {
      "text/plain": "'fig, axs = plt.subplots(ncols=2, nrows=4, figsize=(20,30))\\nindex = 0\\naxs = axs.flatten()\\nfor i, ax in enumerate(axs.flat):\\n    sns.distplot(train[realnum_col].iloc[:,i], ax=axs[index])\\n    index += 1\\nplt.tight_layout()'"
     },
     "execution_count": 71,
     "metadata": {},
     "output_type": "execute_result"
    }
   ],
   "source": [
    "\"\"\"fig, axs = plt.subplots(ncols=2, nrows=4, figsize=(20,30))\n",
    "index = 0\n",
    "axs = axs.flatten()\n",
    "for i, ax in enumerate(axs.flat):\n",
    "    sns.distplot(train[realnum_col].iloc[:,i], ax=axs[index])\n",
    "    index += 1\n",
    "plt.tight_layout()\"\"\""
   ]
  },
  {
   "cell_type": "code",
   "execution_count": 72,
   "metadata": {
    "pycharm": {
     "name": "#%%\n"
    }
   },
   "outputs": [
    {
     "data": {
      "text/plain": "Index(['race', 'gender', 'age', 'diag_1', 'diag_2', 'diag_3', 'diag_4', 'X1',\n       'X2', 'X3', 'X4', 'X5', 'X6', 'X7', 'X8', 'X9', 'X10', 'X11', 'X12',\n       'X13', 'X14', 'X15', 'X16', 'X17', 'X18', 'X19', 'X20', 'X21', 'X22',\n       'X23', 'X24', 'X25', 'change', 'diabetesMed'],\n      dtype='object')"
     },
     "execution_count": 72,
     "metadata": {},
     "output_type": "execute_result"
    }
   ],
   "source": [
    "cat_col_train.columns"
   ]
  },
  {
   "cell_type": "code",
   "execution_count": 73,
   "metadata": {
    "pycharm": {
     "name": "#%%\n"
    }
   },
   "outputs": [],
   "source": [
    "cat_columns = ['race', 'gender', 'age', 'diag_1', 'diag_2', 'diag_3', 'diag_4', 'X1',\n",
    "       'X2', 'X3', 'X4', 'X5', 'X6', 'X7', 'X8', 'X9', 'X10', 'X11', 'X12',\n",
    "       'X13', 'X14', 'X15', 'X16', 'X17', 'X18', 'X19', 'X20', 'X21', 'X22',\n",
    "       'X23', 'X24', 'X25', 'change', 'diabetesMed']"
   ]
  },
  {
   "cell_type": "code",
   "execution_count": 74,
   "metadata": {
    "pycharm": {
     "name": "#%%\n"
    }
   },
   "outputs": [
    {
     "data": {
      "text/plain": "Index(['index', 'encounter_id', 'patient_id', 'time_in_hospital',\n       'num_lab_procedures', 'num_procedures', 'num_medications',\n       'number_outpatient', 'number_emergency', 'number_inpatient', 'diag_5',\n       'number_diagnoses', 'readmitted'],\n      dtype='object')"
     },
     "execution_count": 74,
     "metadata": {},
     "output_type": "execute_result"
    }
   ],
   "source": [
    "num_col_train.columns"
   ]
  },
  {
   "cell_type": "code",
   "execution_count": 75,
   "metadata": {
    "pycharm": {
     "name": "#%%\n"
    }
   },
   "outputs": [],
   "source": [
    "le=LabelEncoder()\n",
    "\n",
    "for i in cat_columns:\n",
    "    train[i]=le.fit_transform(train[i])\n",
    "for i in cat_columns:\n",
    "    test[i]=le.fit_transform(test[i])"
   ]
  },
  {
   "cell_type": "code",
   "execution_count": 76,
   "metadata": {
    "pycharm": {
     "name": "#%%\n"
    }
   },
   "outputs": [
    {
     "data": {
      "text/plain": "   index  encounter_id  patient_id  race  gender  age  time_in_hospital  \\\n0  69375     197029140    51521940     3       1    8                 4   \n1  57272     163571946    92631357     2       1    6                 3   \n2  82347     256497366    30023982     2       0    5                 6   \n3  89608     289891212    93606021     0       0    7                 5   \n4  24091      81873900    23464296     2       1    7                 9   \n\n   num_lab_procedures  num_procedures  num_medications  ...  X19  X20  X21  \\\n0                  39               1                9  ...    0    1    1   \n1                  34               1               12  ...    0    1    1   \n2                  50               2               24  ...    0    0    1   \n3                  63               0               14  ...    0    0    1   \n4                  17               1               11  ...    0    1    1   \n\n   X22  X23  X24  X25  change  diabetesMed  readmitted  \n0    0    0    0    0       1            1           1  \n1    0    0    0    0       1            0           0  \n2    0    0    0    0       0            1           1  \n3    0    0    0    0       0            1           1  \n4    0    0    0    0       1            0           1  \n\n[5 rows x 47 columns]",
      "text/html": "<div>\n<style scoped>\n    .dataframe tbody tr th:only-of-type {\n        vertical-align: middle;\n    }\n\n    .dataframe tbody tr th {\n        vertical-align: top;\n    }\n\n    .dataframe thead th {\n        text-align: right;\n    }\n</style>\n<table border=\"1\" class=\"dataframe\">\n  <thead>\n    <tr style=\"text-align: right;\">\n      <th></th>\n      <th>index</th>\n      <th>encounter_id</th>\n      <th>patient_id</th>\n      <th>race</th>\n      <th>gender</th>\n      <th>age</th>\n      <th>time_in_hospital</th>\n      <th>num_lab_procedures</th>\n      <th>num_procedures</th>\n      <th>num_medications</th>\n      <th>...</th>\n      <th>X19</th>\n      <th>X20</th>\n      <th>X21</th>\n      <th>X22</th>\n      <th>X23</th>\n      <th>X24</th>\n      <th>X25</th>\n      <th>change</th>\n      <th>diabetesMed</th>\n      <th>readmitted</th>\n    </tr>\n  </thead>\n  <tbody>\n    <tr>\n      <th>0</th>\n      <td>69375</td>\n      <td>197029140</td>\n      <td>51521940</td>\n      <td>3</td>\n      <td>1</td>\n      <td>8</td>\n      <td>4</td>\n      <td>39</td>\n      <td>1</td>\n      <td>9</td>\n      <td>...</td>\n      <td>0</td>\n      <td>1</td>\n      <td>1</td>\n      <td>0</td>\n      <td>0</td>\n      <td>0</td>\n      <td>0</td>\n      <td>1</td>\n      <td>1</td>\n      <td>1</td>\n    </tr>\n    <tr>\n      <th>1</th>\n      <td>57272</td>\n      <td>163571946</td>\n      <td>92631357</td>\n      <td>2</td>\n      <td>1</td>\n      <td>6</td>\n      <td>3</td>\n      <td>34</td>\n      <td>1</td>\n      <td>12</td>\n      <td>...</td>\n      <td>0</td>\n      <td>1</td>\n      <td>1</td>\n      <td>0</td>\n      <td>0</td>\n      <td>0</td>\n      <td>0</td>\n      <td>1</td>\n      <td>0</td>\n      <td>0</td>\n    </tr>\n    <tr>\n      <th>2</th>\n      <td>82347</td>\n      <td>256497366</td>\n      <td>30023982</td>\n      <td>2</td>\n      <td>0</td>\n      <td>5</td>\n      <td>6</td>\n      <td>50</td>\n      <td>2</td>\n      <td>24</td>\n      <td>...</td>\n      <td>0</td>\n      <td>0</td>\n      <td>1</td>\n      <td>0</td>\n      <td>0</td>\n      <td>0</td>\n      <td>0</td>\n      <td>0</td>\n      <td>1</td>\n      <td>1</td>\n    </tr>\n    <tr>\n      <th>3</th>\n      <td>89608</td>\n      <td>289891212</td>\n      <td>93606021</td>\n      <td>0</td>\n      <td>0</td>\n      <td>7</td>\n      <td>5</td>\n      <td>63</td>\n      <td>0</td>\n      <td>14</td>\n      <td>...</td>\n      <td>0</td>\n      <td>0</td>\n      <td>1</td>\n      <td>0</td>\n      <td>0</td>\n      <td>0</td>\n      <td>0</td>\n      <td>0</td>\n      <td>1</td>\n      <td>1</td>\n    </tr>\n    <tr>\n      <th>4</th>\n      <td>24091</td>\n      <td>81873900</td>\n      <td>23464296</td>\n      <td>2</td>\n      <td>1</td>\n      <td>7</td>\n      <td>9</td>\n      <td>17</td>\n      <td>1</td>\n      <td>11</td>\n      <td>...</td>\n      <td>0</td>\n      <td>1</td>\n      <td>1</td>\n      <td>0</td>\n      <td>0</td>\n      <td>0</td>\n      <td>0</td>\n      <td>1</td>\n      <td>0</td>\n      <td>1</td>\n    </tr>\n  </tbody>\n</table>\n<p>5 rows × 47 columns</p>\n</div>"
     },
     "execution_count": 76,
     "metadata": {},
     "output_type": "execute_result"
    }
   ],
   "source": [
    "train.head()"
   ]
  },
  {
   "cell_type": "code",
   "execution_count": 77,
   "metadata": {
    "pycharm": {
     "name": "#%%\n"
    }
   },
   "outputs": [],
   "source": [
    "cat_column_3 =['race', 'gender', 'age', 'diag_1', 'diag_2', 'diag_3', 'diag_4', 'X1',\n",
    "       'X2', 'X3', 'X4', 'X5', 'X6', 'X7', 'X8', 'X9', 'X10', 'X11', 'X12',\n",
    "       'X13', 'X14', 'X15', 'X16', 'X17', 'X18', 'X19', 'X20', 'X21', 'X22',\n",
    "       'X23', 'X24', 'X25', 'change', 'diabetesMed','readmitted']"
   ]
  },
  {
   "cell_type": "code",
   "execution_count": 78,
   "metadata": {
    "pycharm": {
     "name": "#%%\n"
    }
   },
   "outputs": [
    {
     "data": {
      "text/plain": "\"from sklearn.feature_selection import chi2\\nresultant = pd.DataFrame(data=[(0 for i in range(len(cat_column_3))) for i in range(len(cat_column_3))],\\n                         columns=list(cat_column_3))\\nresultant.set_index(pd.Index(list(cat_column_3)), inplace = True)\\n\\n# Finding p_value for all columns and putting them in the resultant matrix\\nfor i in list(cat_column_3):\\n    for j in list(cat_column_3):\\n        if i != j:\\n            chi2_val, p_val = chi2(np.array(train[i]).reshape(-1, 1), np.array(train[j]).reshape(-1, 1))\\n            resultant.loc[i,j] = p_val\\n#print(resultant)\\nfig = plt.figure(figsize=(40,40))\\nsns.heatmap(resultant, annot=True, cmap='Blues')\\nplt.title('Chi-Square Test Results')\\nplt.show()\""
     },
     "execution_count": 78,
     "metadata": {},
     "output_type": "execute_result"
    }
   ],
   "source": [
    "\"\"\"from sklearn.feature_selection import chi2\n",
    "resultant = pd.DataFrame(data=[(0 for i in range(len(cat_column_3))) for i in range(len(cat_column_3))],\n",
    "                         columns=list(cat_column_3))\n",
    "resultant.set_index(pd.Index(list(cat_column_3)), inplace = True)\n",
    "\n",
    "# Finding p_value for all columns and putting them in the resultant matrix\n",
    "for i in list(cat_column_3):\n",
    "    for j in list(cat_column_3):\n",
    "        if i != j:\n",
    "            chi2_val, p_val = chi2(np.array(train[i]).reshape(-1, 1), np.array(train[j]).reshape(-1, 1))\n",
    "            resultant.loc[i,j] = p_val\n",
    "#print(resultant)\n",
    "fig = plt.figure(figsize=(40,40))\n",
    "sns.heatmap(resultant, annot=True, cmap='Blues')\n",
    "plt.title('Chi-Square Test Results')\n",
    "plt.show()\"\"\""
   ]
  },
  {
   "cell_type": "code",
   "execution_count": 79,
   "metadata": {
    "pycharm": {
     "name": "#%%\n"
    }
   },
   "outputs": [],
   "source": [
    "train=train.drop(['X8',\"X18\",'X19','X25'],axis=1)\n",
    "test=test.drop(['X8',\"X18\",'X19','X25'],axis=1)"
   ]
  },
  {
   "cell_type": "code",
   "execution_count": 80,
   "metadata": {
    "pycharm": {
     "name": "#%%\n"
    }
   },
   "outputs": [],
   "source": [
    "scaler = MinMaxScaler()\n",
    "scaling_features = ['time_in_hospital', 'num_lab_procedures', 'num_procedures', 'num_medications', 'number_outpatient', 'number_emergency', 'number_inpatient', 'diag_5',\n",
    "'number_diagnoses']\n",
    "for i in scaling_features:\n",
    "    train[i] = scaler.fit_transform(train[i].values.reshape(-1, 1))"
   ]
  },
  {
   "cell_type": "code",
   "execution_count": 81,
   "metadata": {
    "pycharm": {
     "name": "#%%\n"
    }
   },
   "outputs": [],
   "source": [
    "X = train.drop(\"readmitted\", 1)\n",
    "Y = train[\"readmitted\"]"
   ]
  },
  {
   "cell_type": "code",
   "execution_count": 82,
   "metadata": {
    "pycharm": {
     "name": "#%%\n"
    }
   },
   "outputs": [],
   "source": [
    "X_train, X_test, y_train, y_test = train_test_split(X, Y, test_size=0.258, random_state=0)"
   ]
  },
  {
   "cell_type": "code",
   "execution_count": 83,
   "metadata": {
    "pycharm": {
     "name": "#%%\n"
    }
   },
   "outputs": [
    {
     "name": "stdout",
     "output_type": "stream",
     "text": [
      "0.5651521517315887\n"
     ]
    }
   ],
   "source": [
    "lr_mod = LogisticRegression()\n",
    "\n",
    "lr_mod.fit(X_train, y_train)\n",
    "y_pred = lr_mod.predict(X_test)\n",
    "\n",
    "print(f1_score(y_test, y_pred, average='micro'))"
   ]
  },
  {
   "cell_type": "code",
   "execution_count": 84,
   "metadata": {
    "pycharm": {
     "name": "#%%\n"
    }
   },
   "outputs": [
    {
     "name": "stdout",
     "output_type": "stream",
     "text": [
      "0.73\n"
     ]
    }
   ],
   "source": [
    "DT_mod = DecisionTreeClassifier(random_state=1)\n",
    "DT_mod.fit(X_train, y_train)\n",
    "DTy_pred = DT_mod.predict(X_test)\n",
    "#y = clf.predict(X)\n",
    "\n",
    "\n",
    "f1score = f1_score(y_test, DTy_pred, average='micro')\n",
    "print(round(f1score,2))"
   ]
  },
  {
   "cell_type": "code",
   "execution_count": 85,
   "metadata": {
    "pycharm": {
     "name": "#%%\n"
    }
   },
   "outputs": [],
   "source": [
    "test1 = pd.read_csv(r\"test.csv\")"
   ]
  },
  {
   "cell_type": "code",
   "execution_count": 86,
   "metadata": {
    "pycharm": {
     "name": "#%%\n"
    }
   },
   "outputs": [],
   "source": [
    "DTy_pred = pd.DataFrame(DTy_pred)"
   ]
  },
  {
   "cell_type": "code",
   "execution_count": 87,
   "metadata": {
    "pycharm": {
     "name": "#%%\n"
    }
   },
   "outputs": [],
   "source": [
    "DTy_pred.drop(DTy_pred.tail(14).index, inplace = True)"
   ]
  },
  {
   "cell_type": "code",
   "execution_count": 88,
   "metadata": {
    "pycharm": {
     "name": "#%%\n"
    }
   },
   "outputs": [],
   "source": [
    "test['prediction'] = DTy_pred\n",
    "submit= test[['encounter_id','prediction']]"
   ]
  },
  {
   "cell_type": "code",
   "execution_count": 89,
   "metadata": {
    "pycharm": {
     "name": "#%%\n"
    }
   },
   "outputs": [
    {
     "data": {
      "text/plain": "   encounter_id  prediction\n0      46325466           0\n1     245219616           0\n2     155321232           0\n3     179491944           1\n4       7425954           0",
      "text/html": "<div>\n<style scoped>\n    .dataframe tbody tr th:only-of-type {\n        vertical-align: middle;\n    }\n\n    .dataframe tbody tr th {\n        vertical-align: top;\n    }\n\n    .dataframe thead th {\n        text-align: right;\n    }\n</style>\n<table border=\"1\" class=\"dataframe\">\n  <thead>\n    <tr style=\"text-align: right;\">\n      <th></th>\n      <th>encounter_id</th>\n      <th>prediction</th>\n    </tr>\n  </thead>\n  <tbody>\n    <tr>\n      <th>0</th>\n      <td>46325466</td>\n      <td>0</td>\n    </tr>\n    <tr>\n      <th>1</th>\n      <td>245219616</td>\n      <td>0</td>\n    </tr>\n    <tr>\n      <th>2</th>\n      <td>155321232</td>\n      <td>0</td>\n    </tr>\n    <tr>\n      <th>3</th>\n      <td>179491944</td>\n      <td>1</td>\n    </tr>\n    <tr>\n      <th>4</th>\n      <td>7425954</td>\n      <td>0</td>\n    </tr>\n  </tbody>\n</table>\n</div>"
     },
     "execution_count": 89,
     "metadata": {},
     "output_type": "execute_result"
    }
   ],
   "source": [
    "\"\"\"submit.columns = ['encounter_id','prediction']\n",
    "submit.to_csv('submission_v9.csv', index = False)\n",
    "submit.head()\"\"\""
   ]
  },
  {
   "cell_type": "raw",
   "source": [
    "# F1 score for this problem is 0.73"
   ],
   "metadata": {
    "collapsed": false,
    "pycharm": {
     "name": "#%% raw\n"
    }
   }
  },
  {
   "cell_type": "code",
   "execution_count": 89,
   "metadata": {
    "pycharm": {
     "name": "#%%\n"
    }
   },
   "outputs": [],
   "source": []
  }
 ],
 "metadata": {
  "kernelspec": {
   "display_name": "Python 3 (ipykernel)",
   "language": "python",
   "name": "python3"
  },
  "language_info": {
   "codemirror_mode": {
    "name": "ipython",
    "version": 3
   },
   "file_extension": ".py",
   "mimetype": "text/x-python",
   "name": "python",
   "nbconvert_exporter": "python",
   "pygments_lexer": "ipython3",
   "version": "3.9.7"
  }
 },
 "nbformat": 4,
 "nbformat_minor": 1
}